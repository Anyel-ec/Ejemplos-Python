{
 "cells": [
  {
   "cell_type": "code",
   "execution_count": 5,
   "id": "6c967baa",
   "metadata": {
    "_cell_guid": "b1076dfc-b9ad-4769-8c92-a6c4dae69d19",
    "_uuid": "8f2839f25d086af736a60e9eeb907d3b93b6e0e5",
    "execution": {
     "iopub.execute_input": "2024-01-26T15:19:30.210736Z",
     "iopub.status.busy": "2024-01-26T15:19:30.210302Z",
     "iopub.status.idle": "2024-01-26T15:19:30.679704Z",
     "shell.execute_reply": "2024-01-26T15:19:30.678277Z"
    },
    "papermill": {
     "duration": 0.483403,
     "end_time": "2024-01-26T15:19:30.682549",
     "exception": false,
     "start_time": "2024-01-26T15:19:30.199146",
     "status": "completed"
    },
    "tags": []
   },
   "outputs": [],
   "source": [
    "# This Python 3 environment comes with many helpful analytics libraries installed\n",
    "# It is defined by the kaggle/python Docker image: https://github.com/kaggle/docker-python\n",
    "# For example, here's several helpful packages to load\n",
    "\n",
    "import numpy as np # linear algebra\n",
    "import pandas as pd # data processing, CSV file I/O (e.g. pd.read_csv)\n",
    "\n",
    "# Input data files are available in the read-only \"../input/\" directory\n",
    "# For example, running this (by clicking run or pressing Shift+Enter) will list all files under the input directory\n",
    "\n",
    "import os\n",
    "for dirname, _, filenames in os.walk('/kaggle/input'):\n",
    "    for filename in filenames:\n",
    "        print(os.path.join(dirname, filename))\n",
    "\n",
    "# You can write up to 20GB to the current directory (/kaggle/working/) that gets preserved as output when you create a version using \"Save & Run All\" \n",
    "# You can also write temporary files to /kaggle/temp/, but they won't be saved outside of the current session"
   ]
  },
  {
   "cell_type": "code",
   "execution_count": 32,
   "id": "84d59cde",
   "metadata": {
    "execution": {
     "iopub.execute_input": "2024-01-26T15:19:30.701820Z",
     "iopub.status.busy": "2024-01-26T15:19:30.701247Z",
     "iopub.status.idle": "2024-01-26T15:19:30.764961Z",
     "shell.execute_reply": "2024-01-26T15:19:30.763913Z"
    },
    "papermill": {
     "duration": 0.076401,
     "end_time": "2024-01-26T15:19:30.767701",
     "exception": false,
     "start_time": "2024-01-26T15:19:30.691300",
     "status": "completed"
    },
    "scrolled": true,
    "tags": []
   },
   "outputs": [
    {
     "name": "stdout",
     "output_type": "stream",
     "text": [
      "Los últimos 10 registros son:\n",
      "      Passengerid   Age      Fare  Sex  sibsp  zero  zero.1  zero.2  zero.3  \\\n",
      "1299         1300  28.0    7.7208    1      0     0       0       0       0   \n",
      "1300         1301   3.0   13.7750    1      1     0       0       0       0   \n",
      "1301         1302  28.0    7.7500    1      0     0       0       0       0   \n",
      "1302         1303  37.0   90.0000    1      1     0       0       0       0   \n",
      "1303         1304  28.0    7.7750    1      0     0       0       0       0   \n",
      "1304         1305  28.0    8.0500    0      0     0       0       0       0   \n",
      "1305         1306  39.0  108.9000    1      0     0       0       0       0   \n",
      "1306         1307  38.5    7.2500    0      0     0       0       0       0   \n",
      "1307         1308  28.0    8.0500    0      0     0       0       0       0   \n",
      "1308         1309  28.0   22.3583    0      1     0       0       0       0   \n",
      "\n",
      "      zero.4  ...  zero.12  zero.13  zero.14  Pclass  zero.15  zero.16  \\\n",
      "1299       0  ...        0        0        0       3        0        0   \n",
      "1300       0  ...        0        0        0       3        0        0   \n",
      "1301       0  ...        0        0        0       3        0        0   \n",
      "1302       0  ...        0        0        0       1        0        0   \n",
      "1303       0  ...        0        0        0       3        0        0   \n",
      "1304       0  ...        0        0        0       3        0        0   \n",
      "1305       0  ...        0        0        0       1        0        0   \n",
      "1306       0  ...        0        0        0       3        0        0   \n",
      "1307       0  ...        0        0        0       3        0        0   \n",
      "1308       0  ...        0        0        0       3        0        0   \n",
      "\n",
      "      Embarked  zero.17  zero.18  2urvived  \n",
      "1299       1.0        0        0         0  \n",
      "1300       2.0        0        0         0  \n",
      "1301       1.0        0        0         0  \n",
      "1302       1.0        0        0         0  \n",
      "1303       2.0        0        0         0  \n",
      "1304       2.0        0        0         0  \n",
      "1305       0.0        0        0         0  \n",
      "1306       2.0        0        0         0  \n",
      "1307       2.0        0        0         0  \n",
      "1308       0.0        0        0         0  \n",
      "\n",
      "[10 rows x 28 columns]\n"
     ]
    }
   ],
   "source": [
    "df = pd.read_csv(\"train_and_test2.csv\")\n",
    "total_registros= len(df)\n",
    "ultimos_10_registros=df.tail(10)\n",
    "print(\"Los últimos 10 registros son:\")\n",
    "print(ultimos_10_registros)\n",
    "#df.head()"
   ]
  },
  {
   "cell_type": "code",
   "execution_count": 39,
   "id": "82bab229",
   "metadata": {},
   "outputs": [
    {
     "name": "stdout",
     "output_type": "stream",
     "text": [
      "El data frame tiene un total de: 1309 registros\n"
     ]
    }
   ],
   "source": [
    "total_registros= len(df)\n",
    "print(\"El data frame tiene un total de:\", total_registros, \"registros\")"
   ]
  },
  {
   "cell_type": "code",
   "execution_count": 37,
   "id": "a0a7af96",
   "metadata": {
    "execution": {
     "iopub.execute_input": "2024-01-26T15:19:30.787681Z",
     "iopub.status.busy": "2024-01-26T15:19:30.787214Z",
     "iopub.status.idle": "2024-01-26T15:19:30.796799Z",
     "shell.execute_reply": "2024-01-26T15:19:30.795519Z"
    },
    "papermill": {
     "duration": 0.02246,
     "end_time": "2024-01-26T15:19:30.799216",
     "exception": false,
     "start_time": "2024-01-26T15:19:30.776756",
     "status": "completed"
    },
    "scrolled": true,
    "tags": []
   },
   "outputs": [
    {
     "data": {
      "text/plain": [
       "Passengerid    0\n",
       "Age            0\n",
       "Fare           0\n",
       "Sex            0\n",
       "sibsp          0\n",
       "zero           0\n",
       "zero.1         0\n",
       "zero.2         0\n",
       "zero.3         0\n",
       "zero.4         0\n",
       "zero.5         0\n",
       "zero.6         0\n",
       "Parch          0\n",
       "zero.7         0\n",
       "zero.8         0\n",
       "zero.9         0\n",
       "zero.10        0\n",
       "zero.11        0\n",
       "zero.12        0\n",
       "zero.13        0\n",
       "zero.14        0\n",
       "Pclass         0\n",
       "zero.15        0\n",
       "zero.16        0\n",
       "Embarked       2\n",
       "zero.17        0\n",
       "zero.18        0\n",
       "2urvived       0\n",
       "dtype: int64"
      ]
     },
     "execution_count": 37,
     "metadata": {},
     "output_type": "execute_result"
    }
   ],
   "source": [
    "df.isnull().sum()"
   ]
  },
  {
   "cell_type": "code",
   "execution_count": 9,
   "id": "c1ac3551",
   "metadata": {
    "execution": {
     "iopub.execute_input": "2024-01-26T15:19:30.819467Z",
     "iopub.status.busy": "2024-01-26T15:19:30.819026Z",
     "iopub.status.idle": "2024-01-26T15:19:30.827015Z",
     "shell.execute_reply": "2024-01-26T15:19:30.825774Z"
    },
    "papermill": {
     "duration": 0.021529,
     "end_time": "2024-01-26T15:19:30.829907",
     "exception": false,
     "start_time": "2024-01-26T15:19:30.808378",
     "status": "completed"
    },
    "tags": []
   },
   "outputs": [],
   "source": [
    "df.fillna(method='ffill',inplace= True)"
   ]
  },
  {
   "cell_type": "code",
   "execution_count": 10,
   "id": "4388193a",
   "metadata": {
    "execution": {
     "iopub.execute_input": "2024-01-26T15:19:30.851877Z",
     "iopub.status.busy": "2024-01-26T15:19:30.851149Z",
     "iopub.status.idle": "2024-01-26T15:19:30.860349Z",
     "shell.execute_reply": "2024-01-26T15:19:30.859513Z"
    },
    "papermill": {
     "duration": 0.023703,
     "end_time": "2024-01-26T15:19:30.862695",
     "exception": false,
     "start_time": "2024-01-26T15:19:30.838992",
     "status": "completed"
    },
    "tags": []
   },
   "outputs": [
    {
     "data": {
      "text/plain": [
       "Passengerid    0\n",
       "Age            0\n",
       "Fare           0\n",
       "Sex            0\n",
       "sibsp          0\n",
       "zero           0\n",
       "zero.1         0\n",
       "zero.2         0\n",
       "zero.3         0\n",
       "zero.4         0\n",
       "zero.5         0\n",
       "zero.6         0\n",
       "Parch          0\n",
       "zero.7         0\n",
       "zero.8         0\n",
       "zero.9         0\n",
       "zero.10        0\n",
       "zero.11        0\n",
       "zero.12        0\n",
       "zero.13        0\n",
       "zero.14        0\n",
       "Pclass         0\n",
       "zero.15        0\n",
       "zero.16        0\n",
       "Embarked       0\n",
       "zero.17        0\n",
       "zero.18        0\n",
       "2urvived       0\n",
       "dtype: int64"
      ]
     },
     "execution_count": 10,
     "metadata": {},
     "output_type": "execute_result"
    }
   ],
   "source": [
    "df.isnull().sum()"
   ]
  },
  {
   "cell_type": "code",
   "execution_count": 11,
   "id": "3f841904",
   "metadata": {
    "execution": {
     "iopub.execute_input": "2024-01-26T15:19:30.884441Z",
     "iopub.status.busy": "2024-01-26T15:19:30.884000Z",
     "iopub.status.idle": "2024-01-26T15:19:30.892512Z",
     "shell.execute_reply": "2024-01-26T15:19:30.891371Z"
    },
    "papermill": {
     "duration": 0.022802,
     "end_time": "2024-01-26T15:19:30.894688",
     "exception": false,
     "start_time": "2024-01-26T15:19:30.871886",
     "status": "completed"
    },
    "tags": []
   },
   "outputs": [],
   "source": [
    "def forward_selection(X_train, X_test, y_train, y_test, model):\n",
    "    selected_features = []\n",
    "    remaining_features = list(X_train.columns)\n",
    "    \n",
    "    while remaining_features:\n",
    "        best_feature = None\n",
    "        best_score = 0\n",
    "        \n",
    "        for feature in remaining_features:\n",
    "            temp_features = selected_features + [feature]\n",
    "            model.fit(X_train[temp_features], y_train)\n",
    "            score = model.score(X_test[temp_features], y_test)\n",
    "            \n",
    "            if score > best_score:\n",
    "                best_score = score\n",
    "                best_feature = feature\n",
    "        \n",
    "        if best_feature:\n",
    "            selected_features.append(best_feature)\n",
    "            remaining_features.remove(best_feature)\n",
    "        else:\n",
    "            break\n",
    "    #print(selected_features)\n",
    "    return selected_features"
   ]
  },
  {
   "cell_type": "code",
   "execution_count": 12,
   "id": "6c85cb13",
   "metadata": {
    "execution": {
     "iopub.execute_input": "2024-01-26T15:19:30.916118Z",
     "iopub.status.busy": "2024-01-26T15:19:30.914773Z",
     "iopub.status.idle": "2024-01-26T15:19:32.355986Z",
     "shell.execute_reply": "2024-01-26T15:19:32.354653Z"
    },
    "papermill": {
     "duration": 1.454945,
     "end_time": "2024-01-26T15:19:32.359033",
     "exception": false,
     "start_time": "2024-01-26T15:19:30.904088",
     "status": "completed"
    },
    "tags": []
   },
   "outputs": [],
   "source": [
    "from sklearn.model_selection import train_test_split\n",
    "from sklearn.linear_model import LogisticRegression\n",
    "from sklearn.preprocessing import MinMaxScaler"
   ]
  },
  {
   "cell_type": "code",
   "execution_count": 13,
   "id": "fd415efd",
   "metadata": {
    "execution": {
     "iopub.execute_input": "2024-01-26T15:19:32.379847Z",
     "iopub.status.busy": "2024-01-26T15:19:32.379385Z",
     "iopub.status.idle": "2024-01-26T15:19:41.050236Z",
     "shell.execute_reply": "2024-01-26T15:19:41.048444Z"
    },
    "papermill": {
     "duration": 8.687217,
     "end_time": "2024-01-26T15:19:41.055603",
     "exception": false,
     "start_time": "2024-01-26T15:19:32.368386",
     "status": "completed"
    },
    "tags": []
   },
   "outputs": [],
   "source": [
    "#X = df[['Age','Fare','Sex','sibsp','Pclass','Embarked']]\n",
    "X = df.drop('2urvived',axis=1)\n",
    "y = df['2urvived']\n",
    "scaler = MinMaxScaler()\n",
    "scaled_x = scaler.fit_transform(X)\n",
    "scaled_df = pd.DataFrame(scaled_x, columns = X.columns)\n",
    "X_train, X_test, y_train, y_test = train_test_split(scaled_df, y, test_size=0.2, random_state=42)\n",
    "model = LogisticRegression(max_iter=1000)\n",
    "selected_features_forward = forward_selection(X_train, X_test, y_train, y_test, model)"
   ]
  },
  {
   "cell_type": "code",
   "execution_count": 14,
   "id": "0d466063",
   "metadata": {
    "execution": {
     "iopub.execute_input": "2024-01-26T15:19:41.099033Z",
     "iopub.status.busy": "2024-01-26T15:19:41.098317Z",
     "iopub.status.idle": "2024-01-26T15:19:41.166220Z",
     "shell.execute_reply": "2024-01-26T15:19:41.165140Z"
    },
    "papermill": {
     "duration": 0.093778,
     "end_time": "2024-01-26T15:19:41.168908",
     "exception": false,
     "start_time": "2024-01-26T15:19:41.075130",
     "status": "completed"
    },
    "tags": []
   },
   "outputs": [
    {
     "data": {
      "text/html": [
       "<div>\n",
       "<style scoped>\n",
       "    .dataframe tbody tr th:only-of-type {\n",
       "        vertical-align: middle;\n",
       "    }\n",
       "\n",
       "    .dataframe tbody tr th {\n",
       "        vertical-align: top;\n",
       "    }\n",
       "\n",
       "    .dataframe thead th {\n",
       "        text-align: right;\n",
       "    }\n",
       "</style>\n",
       "<table border=\"1\" class=\"dataframe\">\n",
       "  <thead>\n",
       "    <tr style=\"text-align: right;\">\n",
       "      <th></th>\n",
       "      <th>Passengerid</th>\n",
       "      <th>Age</th>\n",
       "      <th>Fare</th>\n",
       "      <th>Sex</th>\n",
       "      <th>sibsp</th>\n",
       "      <th>zero</th>\n",
       "      <th>zero.1</th>\n",
       "      <th>zero.2</th>\n",
       "      <th>zero.3</th>\n",
       "      <th>zero.4</th>\n",
       "      <th>...</th>\n",
       "      <th>zero.11</th>\n",
       "      <th>zero.12</th>\n",
       "      <th>zero.13</th>\n",
       "      <th>zero.14</th>\n",
       "      <th>Pclass</th>\n",
       "      <th>zero.15</th>\n",
       "      <th>zero.16</th>\n",
       "      <th>Embarked</th>\n",
       "      <th>zero.17</th>\n",
       "      <th>zero.18</th>\n",
       "    </tr>\n",
       "  </thead>\n",
       "  <tbody>\n",
       "    <tr>\n",
       "      <th>772</th>\n",
       "      <td>0.590214</td>\n",
       "      <td>0.711888</td>\n",
       "      <td>0.020495</td>\n",
       "      <td>1.0</td>\n",
       "      <td>0.000</td>\n",
       "      <td>0.0</td>\n",
       "      <td>0.0</td>\n",
       "      <td>0.0</td>\n",
       "      <td>0.0</td>\n",
       "      <td>0.0</td>\n",
       "      <td>...</td>\n",
       "      <td>0.0</td>\n",
       "      <td>0.0</td>\n",
       "      <td>0.0</td>\n",
       "      <td>0.0</td>\n",
       "      <td>0.5</td>\n",
       "      <td>0.0</td>\n",
       "      <td>0.0</td>\n",
       "      <td>1.0</td>\n",
       "      <td>0.0</td>\n",
       "      <td>0.0</td>\n",
       "    </tr>\n",
       "    <tr>\n",
       "      <th>543</th>\n",
       "      <td>0.415138</td>\n",
       "      <td>0.398722</td>\n",
       "      <td>0.050749</td>\n",
       "      <td>0.0</td>\n",
       "      <td>0.125</td>\n",
       "      <td>0.0</td>\n",
       "      <td>0.0</td>\n",
       "      <td>0.0</td>\n",
       "      <td>0.0</td>\n",
       "      <td>0.0</td>\n",
       "      <td>...</td>\n",
       "      <td>0.0</td>\n",
       "      <td>0.0</td>\n",
       "      <td>0.0</td>\n",
       "      <td>0.0</td>\n",
       "      <td>0.5</td>\n",
       "      <td>0.0</td>\n",
       "      <td>0.0</td>\n",
       "      <td>1.0</td>\n",
       "      <td>0.0</td>\n",
       "      <td>0.0</td>\n",
       "    </tr>\n",
       "    <tr>\n",
       "      <th>289</th>\n",
       "      <td>0.220948</td>\n",
       "      <td>0.273456</td>\n",
       "      <td>0.015127</td>\n",
       "      <td>1.0</td>\n",
       "      <td>0.000</td>\n",
       "      <td>0.0</td>\n",
       "      <td>0.0</td>\n",
       "      <td>0.0</td>\n",
       "      <td>0.0</td>\n",
       "      <td>0.0</td>\n",
       "      <td>...</td>\n",
       "      <td>0.0</td>\n",
       "      <td>0.0</td>\n",
       "      <td>0.0</td>\n",
       "      <td>0.0</td>\n",
       "      <td>1.0</td>\n",
       "      <td>0.0</td>\n",
       "      <td>0.0</td>\n",
       "      <td>0.5</td>\n",
       "      <td>0.0</td>\n",
       "      <td>0.0</td>\n",
       "    </tr>\n",
       "    <tr>\n",
       "      <th>10</th>\n",
       "      <td>0.007645</td>\n",
       "      <td>0.047977</td>\n",
       "      <td>0.032596</td>\n",
       "      <td>1.0</td>\n",
       "      <td>0.125</td>\n",
       "      <td>0.0</td>\n",
       "      <td>0.0</td>\n",
       "      <td>0.0</td>\n",
       "      <td>0.0</td>\n",
       "      <td>0.0</td>\n",
       "      <td>...</td>\n",
       "      <td>0.0</td>\n",
       "      <td>0.0</td>\n",
       "      <td>0.0</td>\n",
       "      <td>0.0</td>\n",
       "      <td>1.0</td>\n",
       "      <td>0.0</td>\n",
       "      <td>0.0</td>\n",
       "      <td>1.0</td>\n",
       "      <td>0.0</td>\n",
       "      <td>0.0</td>\n",
       "    </tr>\n",
       "    <tr>\n",
       "      <th>147</th>\n",
       "      <td>0.112385</td>\n",
       "      <td>0.110610</td>\n",
       "      <td>0.067096</td>\n",
       "      <td>1.0</td>\n",
       "      <td>0.250</td>\n",
       "      <td>0.0</td>\n",
       "      <td>0.0</td>\n",
       "      <td>0.0</td>\n",
       "      <td>0.0</td>\n",
       "      <td>0.0</td>\n",
       "      <td>...</td>\n",
       "      <td>0.0</td>\n",
       "      <td>0.0</td>\n",
       "      <td>0.0</td>\n",
       "      <td>0.0</td>\n",
       "      <td>1.0</td>\n",
       "      <td>0.0</td>\n",
       "      <td>0.0</td>\n",
       "      <td>1.0</td>\n",
       "      <td>0.0</td>\n",
       "      <td>0.0</td>\n",
       "    </tr>\n",
       "  </tbody>\n",
       "</table>\n",
       "<p>5 rows × 27 columns</p>\n",
       "</div>"
      ],
      "text/plain": [
       "     Passengerid       Age      Fare  Sex  sibsp  zero  zero.1  zero.2  \\\n",
       "772     0.590214  0.711888  0.020495  1.0  0.000   0.0     0.0     0.0   \n",
       "543     0.415138  0.398722  0.050749  0.0  0.125   0.0     0.0     0.0   \n",
       "289     0.220948  0.273456  0.015127  1.0  0.000   0.0     0.0     0.0   \n",
       "10      0.007645  0.047977  0.032596  1.0  0.125   0.0     0.0     0.0   \n",
       "147     0.112385  0.110610  0.067096  1.0  0.250   0.0     0.0     0.0   \n",
       "\n",
       "     zero.3  zero.4  ...  zero.11  zero.12  zero.13  zero.14  Pclass  zero.15  \\\n",
       "772     0.0     0.0  ...      0.0      0.0      0.0      0.0     0.5      0.0   \n",
       "543     0.0     0.0  ...      0.0      0.0      0.0      0.0     0.5      0.0   \n",
       "289     0.0     0.0  ...      0.0      0.0      0.0      0.0     1.0      0.0   \n",
       "10      0.0     0.0  ...      0.0      0.0      0.0      0.0     1.0      0.0   \n",
       "147     0.0     0.0  ...      0.0      0.0      0.0      0.0     1.0      0.0   \n",
       "\n",
       "     zero.16  Embarked  zero.17  zero.18  \n",
       "772      0.0       1.0      0.0      0.0  \n",
       "543      0.0       1.0      0.0      0.0  \n",
       "289      0.0       0.5      0.0      0.0  \n",
       "10       0.0       1.0      0.0      0.0  \n",
       "147      0.0       1.0      0.0      0.0  \n",
       "\n",
       "[5 rows x 27 columns]"
      ]
     },
     "execution_count": 14,
     "metadata": {},
     "output_type": "execute_result"
    }
   ],
   "source": [
    "X_train.head()"
   ]
  },
  {
   "cell_type": "code",
   "execution_count": 15,
   "id": "b6b7a50d",
   "metadata": {
    "execution": {
     "iopub.execute_input": "2024-01-26T15:19:41.191014Z",
     "iopub.status.busy": "2024-01-26T15:19:41.189799Z",
     "iopub.status.idle": "2024-01-26T15:19:41.225253Z",
     "shell.execute_reply": "2024-01-26T15:19:41.223952Z"
    },
    "papermill": {
     "duration": 0.050937,
     "end_time": "2024-01-26T15:19:41.229765",
     "exception": false,
     "start_time": "2024-01-26T15:19:41.178828",
     "status": "completed"
    },
    "tags": []
   },
   "outputs": [
    {
     "data": {
      "text/html": [
       "<style>#sk-container-id-1 {color: black;}#sk-container-id-1 pre{padding: 0;}#sk-container-id-1 div.sk-toggleable {background-color: white;}#sk-container-id-1 label.sk-toggleable__label {cursor: pointer;display: block;width: 100%;margin-bottom: 0;padding: 0.3em;box-sizing: border-box;text-align: center;}#sk-container-id-1 label.sk-toggleable__label-arrow:before {content: \"▸\";float: left;margin-right: 0.25em;color: #696969;}#sk-container-id-1 label.sk-toggleable__label-arrow:hover:before {color: black;}#sk-container-id-1 div.sk-estimator:hover label.sk-toggleable__label-arrow:before {color: black;}#sk-container-id-1 div.sk-toggleable__content {max-height: 0;max-width: 0;overflow: hidden;text-align: left;background-color: #f0f8ff;}#sk-container-id-1 div.sk-toggleable__content pre {margin: 0.2em;color: black;border-radius: 0.25em;background-color: #f0f8ff;}#sk-container-id-1 input.sk-toggleable__control:checked~div.sk-toggleable__content {max-height: 200px;max-width: 100%;overflow: auto;}#sk-container-id-1 input.sk-toggleable__control:checked~label.sk-toggleable__label-arrow:before {content: \"▾\";}#sk-container-id-1 div.sk-estimator input.sk-toggleable__control:checked~label.sk-toggleable__label {background-color: #d4ebff;}#sk-container-id-1 div.sk-label input.sk-toggleable__control:checked~label.sk-toggleable__label {background-color: #d4ebff;}#sk-container-id-1 input.sk-hidden--visually {border: 0;clip: rect(1px 1px 1px 1px);clip: rect(1px, 1px, 1px, 1px);height: 1px;margin: -1px;overflow: hidden;padding: 0;position: absolute;width: 1px;}#sk-container-id-1 div.sk-estimator {font-family: monospace;background-color: #f0f8ff;border: 1px dotted black;border-radius: 0.25em;box-sizing: border-box;margin-bottom: 0.5em;}#sk-container-id-1 div.sk-estimator:hover {background-color: #d4ebff;}#sk-container-id-1 div.sk-parallel-item::after {content: \"\";width: 100%;border-bottom: 1px solid gray;flex-grow: 1;}#sk-container-id-1 div.sk-label:hover label.sk-toggleable__label {background-color: #d4ebff;}#sk-container-id-1 div.sk-serial::before {content: \"\";position: absolute;border-left: 1px solid gray;box-sizing: border-box;top: 0;bottom: 0;left: 50%;z-index: 0;}#sk-container-id-1 div.sk-serial {display: flex;flex-direction: column;align-items: center;background-color: white;padding-right: 0.2em;padding-left: 0.2em;position: relative;}#sk-container-id-1 div.sk-item {position: relative;z-index: 1;}#sk-container-id-1 div.sk-parallel {display: flex;align-items: stretch;justify-content: center;background-color: white;position: relative;}#sk-container-id-1 div.sk-item::before, #sk-container-id-1 div.sk-parallel-item::before {content: \"\";position: absolute;border-left: 1px solid gray;box-sizing: border-box;top: 0;bottom: 0;left: 50%;z-index: -1;}#sk-container-id-1 div.sk-parallel-item {display: flex;flex-direction: column;z-index: 1;position: relative;background-color: white;}#sk-container-id-1 div.sk-parallel-item:first-child::after {align-self: flex-end;width: 50%;}#sk-container-id-1 div.sk-parallel-item:last-child::after {align-self: flex-start;width: 50%;}#sk-container-id-1 div.sk-parallel-item:only-child::after {width: 0;}#sk-container-id-1 div.sk-dashed-wrapped {border: 1px dashed gray;margin: 0 0.4em 0.5em 0.4em;box-sizing: border-box;padding-bottom: 0.4em;background-color: white;}#sk-container-id-1 div.sk-label label {font-family: monospace;font-weight: bold;display: inline-block;line-height: 1.2em;}#sk-container-id-1 div.sk-label-container {text-align: center;}#sk-container-id-1 div.sk-container {/* jupyter's `normalize.less` sets `[hidden] { display: none; }` but bootstrap.min.css set `[hidden] { display: none !important; }` so we also need the `!important` here to be able to override the default hidden behavior on the sphinx rendered scikit-learn.org. See: https://github.com/scikit-learn/scikit-learn/issues/21755 */display: inline-block !important;position: relative;}#sk-container-id-1 div.sk-text-repr-fallback {display: none;}</style><div id=\"sk-container-id-1\" class=\"sk-top-container\"><div class=\"sk-text-repr-fallback\"><pre>LogisticRegression(max_iter=1000)</pre><b>In a Jupyter environment, please rerun this cell to show the HTML representation or trust the notebook. <br />On GitHub, the HTML representation is unable to render, please try loading this page with nbviewer.org.</b></div><div class=\"sk-container\" hidden><div class=\"sk-item\"><div class=\"sk-estimator sk-toggleable\"><input class=\"sk-toggleable__control sk-hidden--visually\" id=\"sk-estimator-id-1\" type=\"checkbox\" checked><label for=\"sk-estimator-id-1\" class=\"sk-toggleable__label sk-toggleable__label-arrow\">LogisticRegression</label><div class=\"sk-toggleable__content\"><pre>LogisticRegression(max_iter=1000)</pre></div></div></div></div></div>"
      ],
      "text/plain": [
       "LogisticRegression(max_iter=1000)"
      ]
     },
     "execution_count": 15,
     "metadata": {},
     "output_type": "execute_result"
    }
   ],
   "source": [
    "model.fit(X_train,y_train)"
   ]
  },
  {
   "cell_type": "code",
   "execution_count": 16,
   "id": "a0e90df0",
   "metadata": {
    "execution": {
     "iopub.execute_input": "2024-01-26T15:19:41.276260Z",
     "iopub.status.busy": "2024-01-26T15:19:41.275550Z",
     "iopub.status.idle": "2024-01-26T15:19:41.292740Z",
     "shell.execute_reply": "2024-01-26T15:19:41.291476Z"
    },
    "papermill": {
     "duration": 0.044979,
     "end_time": "2024-01-26T15:19:41.296991",
     "exception": false,
     "start_time": "2024-01-26T15:19:41.252012",
     "status": "completed"
    },
    "tags": []
   },
   "outputs": [
    {
     "data": {
      "text/plain": [
       "array([0, 0, 0, 0, 0, 1, 0, 1, 0, 0, 0, 0, 0, 1, 0, 0, 0, 0, 0, 0, 0, 0,\n",
       "       0, 0, 0, 0, 0, 0, 0, 1, 0, 1, 0, 0, 0, 0, 1, 0, 0, 1, 0, 0, 1, 0,\n",
       "       0, 0, 0, 0, 0, 0, 1, 0, 0, 1, 1, 0, 0, 1, 0, 0, 0, 0, 1, 0, 1, 1,\n",
       "       1, 1, 0, 0, 0, 0, 0, 0, 0, 0, 0, 0, 1, 0, 1, 0, 0, 0, 0, 0, 0, 0,\n",
       "       1, 1, 1, 0, 0, 0, 0, 0, 0, 0, 1, 0, 0, 0, 0, 0, 0, 0, 1, 0, 0, 1,\n",
       "       0, 1, 0, 0, 1, 0, 0, 1, 0, 0, 0, 1, 0, 0, 0, 0, 1, 0, 0, 0, 0, 1,\n",
       "       0, 1, 0, 0, 0, 0, 0, 0, 0, 1, 0, 0, 0, 1, 0, 0, 0, 0, 0, 0, 0, 0,\n",
       "       1, 1, 0, 0, 0, 0, 0, 0, 0, 0, 0, 0, 0, 0, 0, 0, 0, 1, 0, 0, 0, 1,\n",
       "       1, 0, 0, 0, 0, 0, 0, 1, 0, 0, 0, 0, 0, 0, 0, 0, 0, 0, 0, 0, 1, 0,\n",
       "       0, 1, 0, 0, 1, 0, 0, 0, 0, 0, 0, 0, 0, 0, 0, 0, 0, 0, 1, 1, 0, 0,\n",
       "       0, 1, 0, 0, 0, 1, 0, 0, 0, 0, 0, 0, 0, 1, 1, 0, 1, 0, 0, 0, 0, 0,\n",
       "       0, 0, 0, 0, 0, 0, 1, 0, 0, 0, 0, 1, 0, 0, 1, 0, 1, 0, 1, 1],\n",
       "      dtype=int64)"
      ]
     },
     "execution_count": 16,
     "metadata": {},
     "output_type": "execute_result"
    }
   ],
   "source": [
    "y_pred = model.predict(X_test)\n",
    "y_pred"
   ]
  },
  {
   "cell_type": "code",
   "execution_count": 17,
   "id": "6647b54f",
   "metadata": {
    "execution": {
     "iopub.execute_input": "2024-01-26T15:19:41.339704Z",
     "iopub.status.busy": "2024-01-26T15:19:41.339281Z",
     "iopub.status.idle": "2024-01-26T15:19:41.344257Z",
     "shell.execute_reply": "2024-01-26T15:19:41.343362Z"
    },
    "papermill": {
     "duration": 0.027323,
     "end_time": "2024-01-26T15:19:41.346643",
     "exception": false,
     "start_time": "2024-01-26T15:19:41.319320",
     "status": "completed"
    },
    "tags": []
   },
   "outputs": [],
   "source": [
    "from sklearn.metrics import confusion_matrix"
   ]
  },
  {
   "cell_type": "code",
   "execution_count": 18,
   "id": "8a58da32",
   "metadata": {
    "execution": {
     "iopub.execute_input": "2024-01-26T15:19:41.369640Z",
     "iopub.status.busy": "2024-01-26T15:19:41.369179Z",
     "iopub.status.idle": "2024-01-26T15:19:41.376433Z",
     "shell.execute_reply": "2024-01-26T15:19:41.375100Z"
    },
    "papermill": {
     "duration": 0.02194,
     "end_time": "2024-01-26T15:19:41.379078",
     "exception": false,
     "start_time": "2024-01-26T15:19:41.357138",
     "status": "completed"
    },
    "tags": []
   },
   "outputs": [],
   "source": [
    "cm = confusion_matrix(y_test,y_pred)"
   ]
  },
  {
   "cell_type": "code",
   "execution_count": 19,
   "id": "b19f42ca",
   "metadata": {
    "execution": {
     "iopub.execute_input": "2024-01-26T15:19:41.401734Z",
     "iopub.status.busy": "2024-01-26T15:19:41.401335Z",
     "iopub.status.idle": "2024-01-26T15:19:41.735166Z",
     "shell.execute_reply": "2024-01-26T15:19:41.734095Z"
    },
    "papermill": {
     "duration": 0.34854,
     "end_time": "2024-01-26T15:19:41.737811",
     "exception": false,
     "start_time": "2024-01-26T15:19:41.389271",
     "status": "completed"
    },
    "tags": []
   },
   "outputs": [],
   "source": [
    "import matplotlib.pyplot as plt\n",
    "import seaborn as sns"
   ]
  },
  {
   "cell_type": "code",
   "execution_count": 20,
   "id": "b31e83a3",
   "metadata": {
    "execution": {
     "iopub.execute_input": "2024-01-26T15:19:41.761622Z",
     "iopub.status.busy": "2024-01-26T15:19:41.760162Z",
     "iopub.status.idle": "2024-01-26T15:19:41.992111Z",
     "shell.execute_reply": "2024-01-26T15:19:41.991074Z"
    },
    "papermill": {
     "duration": 0.246939,
     "end_time": "2024-01-26T15:19:41.994915",
     "exception": false,
     "start_time": "2024-01-26T15:19:41.747976",
     "status": "completed"
    },
    "tags": []
   },
   "outputs": [
    {
     "data": {
      "image/png": "[encoded data removed]",
      "text/plain": [
       "<Figure size 800x600 with 1 Axes>"
      ]
     },
     "metadata": {},
     "output_type": "display_data"
    }
   ],
   "source": [
    "plt.figure(figsize=(8, 6))\n",
    "sns.heatmap(cm, annot=True, cmap='Blues', fmt='d', cbar=False)\n",
    "plt.xlabel('Predicted labels')\n",
    "plt.ylabel('True labels')\n",
    "plt.title('Confusion Matrix')\n",
    "plt.show()"
   ]
  },
  {
   "cell_type": "code",
   "execution_count": 21,
   "id": "0c771305",
   "metadata": {
    "execution": {
     "iopub.execute_input": "2024-01-26T15:19:42.018822Z",
     "iopub.status.busy": "2024-01-26T15:19:42.017992Z",
     "iopub.status.idle": "2024-01-26T15:19:42.024011Z",
     "shell.execute_reply": "2024-01-26T15:19:42.022659Z"
    },
    "papermill": {
     "duration": 0.021281,
     "end_time": "2024-01-26T15:19:42.026733",
     "exception": false,
     "start_time": "2024-01-26T15:19:42.005452",
     "status": "completed"
    },
    "tags": []
   },
   "outputs": [],
   "source": [
    "from sklearn.metrics import precision_score, recall_score, f1_score"
   ]
  },
  {
   "cell_type": "code",
   "execution_count": 22,
   "id": "1aef8e3a",
   "metadata": {
    "execution": {
     "iopub.execute_input": "2024-01-26T15:19:42.050875Z",
     "iopub.status.busy": "2024-01-26T15:19:42.050402Z",
     "iopub.status.idle": "2024-01-26T15:19:42.066042Z",
     "shell.execute_reply": "2024-01-26T15:19:42.064851Z"
    },
    "papermill": {
     "duration": 0.030962,
     "end_time": "2024-01-26T15:19:42.068606",
     "exception": false,
     "start_time": "2024-01-26T15:19:42.037644",
     "status": "completed"
    },
    "tags": []
   },
   "outputs": [
    {
     "name": "stdout",
     "output_type": "stream",
     "text": [
      "Precision Score : 0.8392857142857143\n",
      "Recall Score : 0.8392857142857143\n",
      "F1 Score : 0.8392857142857143\n"
     ]
    }
   ],
   "source": [
    "print(f'Precision Score : {precision_score(y_test,y_pred)}')\n",
    "print(f'Recall Score : {precision_score(y_test,y_pred)}')\n",
    "print(f'F1 Score : {precision_score(y_test,y_pred)}')      "
   ]
  },
  {
   "cell_type": "code",
   "execution_count": 23,
   "id": "f141f13d",
   "metadata": {
    "execution": {
     "iopub.execute_input": "2024-01-26T15:19:42.092668Z",
     "iopub.status.busy": "2024-01-26T15:19:42.092236Z",
     "iopub.status.idle": "2024-01-26T15:19:42.097558Z",
     "shell.execute_reply": "2024-01-26T15:19:42.096363Z"
    },
    "papermill": {
     "duration": 0.020448,
     "end_time": "2024-01-26T15:19:42.099937",
     "exception": false,
     "start_time": "2024-01-26T15:19:42.079489",
     "status": "completed"
    },
    "tags": []
   },
   "outputs": [],
   "source": [
    "from sklearn.metrics import roc_curve, roc_auc_score"
   ]
  },
  {
   "cell_type": "code",
   "execution_count": 24,
   "id": "3f77b1cd",
   "metadata": {
    "execution": {
     "iopub.execute_input": "2024-01-26T15:19:42.124725Z",
     "iopub.status.busy": "2024-01-26T15:19:42.123815Z",
     "iopub.status.idle": "2024-01-26T15:19:42.130469Z",
     "shell.execute_reply": "2024-01-26T15:19:42.129628Z"
    },
    "papermill": {
     "duration": 0.021722,
     "end_time": "2024-01-26T15:19:42.132605",
     "exception": false,
     "start_time": "2024-01-26T15:19:42.110883",
     "status": "completed"
    },
    "tags": []
   },
   "outputs": [],
   "source": [
    "fpr, tpr, thresholds = roc_curve(y_test, y_pred)"
   ]
  },
  {
   "cell_type": "code",
   "execution_count": 25,
   "id": "7941107a",
   "metadata": {
    "execution": {
     "iopub.execute_input": "2024-01-26T15:19:42.156769Z",
     "iopub.status.busy": "2024-01-26T15:19:42.156312Z",
     "iopub.status.idle": "2024-01-26T15:19:42.166904Z",
     "shell.execute_reply": "2024-01-26T15:19:42.165671Z"
    },
    "papermill": {
     "duration": 0.025984,
     "end_time": "2024-01-26T15:19:42.169400",
     "exception": false,
     "start_time": "2024-01-26T15:19:42.143416",
     "status": "completed"
    },
    "tags": []
   },
   "outputs": [],
   "source": [
    "auroc = roc_auc_score(y_test, y_pred)"
   ]
  },
  {
   "cell_type": "code",
   "execution_count": 26,
   "id": "2d52166c",
   "metadata": {
    "execution": {
     "iopub.execute_input": "2024-01-26T15:19:42.192821Z",
     "iopub.status.busy": "2024-01-26T15:19:42.192398Z",
     "iopub.status.idle": "2024-01-26T15:19:42.522212Z",
     "shell.execute_reply": "2024-01-26T15:19:42.521097Z"
    },
    "papermill": {
     "duration": 0.34516,
     "end_time": "2024-01-26T15:19:42.525295",
     "exception": false,
     "start_time": "2024-01-26T15:19:42.180135",
     "status": "completed"
    },
    "tags": []
   },
   "outputs": [
    {
     "data": {
      "image/png": "[encoded data removed]",
      "text/plain": [
       "<Figure size 640x480 with 1 Axes>"
      ]
     },
     "metadata": {},
     "output_type": "display_data"
    }
   ],
   "source": [
    "plt.plot(fpr, tpr, color='blue', label='ROC curve (AUROC = %0.2f)' % auroc)\n",
    "plt.plot([0, 1], [0, 1], color='red', linestyle='--', label='Random Guess')\n",
    "plt.xlabel('False Positive Rate')\n",
    "plt.ylabel('True Positive Rate')\n",
    "plt.title('Receiver Operating Characteristic (ROC) Curve')\n",
    "plt.legend(loc='lower right')\n",
    "plt.show()"
   ]
  },
  {
   "cell_type": "code",
   "execution_count": 27,
   "id": "e5c79874",
   "metadata": {
    "papermill": {
     "duration": 0.010986,
     "end_time": "2024-01-26T15:19:42.547924",
     "exception": false,
     "start_time": "2024-01-26T15:19:42.536938",
     "status": "completed"
    },
    "tags": []
   },
   "outputs": [
    {
     "name": "stdout",
     "output_type": "stream",
     "text": [
      "Métricas anteriores:\n",
      "Precision Score : 0.8392857142857143\n",
      "Recall Score : 0.6438356164383562\n",
      "F1 Score : 0.7286821705426357\n",
      "\n",
      "Métricas nuevas:\n",
      "Precision Score : 0.7591240875912408\n",
      "Recall Score : 0.5875706214689266\n",
      "F1 Score : 0.6624203821656052\n"
     ]
    }
   ],
   "source": [
    "#Luego de ejecutar todo el algoritmo, divida los datos de entrenamiento y prueba en 50% y 50%, \n",
    "#e indique si las métricas precision_score, recall_score, y  f1_score mejoraron. \n",
    "#Nota: En el código entregado debe estar como lo hizo o lo calculó.\n",
    "# Importar librerías\n",
    "from sklearn.model_selection import train_test_split\n",
    "from sklearn.metrics import precision_score, recall_score, f1_score\n",
    "\n",
    "# Dividir los datos en 50% para entrenamiento y 50% para prueba\n",
    "X_train_new, X_test_new, y_train_new, y_test_new = train_test_split(scaled_df, y, test_size=0.5, random_state=42)\n",
    "\n",
    "# Entrenar el modelo con los nuevos datos de entrenamiento\n",
    "model.fit(X_train_new, y_train_new)\n",
    "\n",
    "# Realizar predicciones en los nuevos datos de prueba\n",
    "y_pred_new = model.predict(X_test_new)\n",
    "\n",
    "# Calcular métricas con los nuevos datos\n",
    "precision_new = precision_score(y_test_new, y_pred_new)\n",
    "recall_new = recall_score(y_test_new, y_pred_new)\n",
    "f1_new = f1_score(y_test_new, y_pred_new)\n",
    "\n",
    "# Comparar métricas anteriores y nuevas\n",
    "print(\"Métricas anteriores:\")\n",
    "print(f'Precision Score : {precision_score(y_test,y_pred)}')\n",
    "print(f'Recall Score : {recall_score(y_test,y_pred)}')\n",
    "print(f'F1 Score : {f1_score(y_test,y_pred)}')\n",
    "\n",
    "print(\"\\nMétricas nuevas:\")\n",
    "print(f'Precision Score : {precision_new}')\n",
    "print(f'Recall Score : {recall_new}')\n",
    "print(f'F1 Score : {f1_new}')\n"
   ]
  },
  {
   "cell_type": "code",
   "execution_count": 28,
   "id": "911a3939",
   "metadata": {
    "papermill": {
     "duration": 0.011367,
     "end_time": "2024-01-26T15:19:42.570600",
     "exception": false,
     "start_time": "2024-01-26T15:19:42.559233",
     "status": "completed"
    },
    "tags": []
   },
   "outputs": [
    {
     "name": "stdout",
     "output_type": "stream",
     "text": [
      "Métricas anteriores:\n",
      "Precision Score : 0.8392857142857143\n",
      "Recall Score : 0.6438356164383562\n",
      "F1 Score : 0.7286821705426357\n",
      "\n",
      "Métricas nuevas:\n",
      "Precision Score : 0.9259259259259259\n",
      "Recall Score : 0.5952380952380952\n",
      "F1 Score : 0.7246376811594204\n"
     ]
    }
   ],
   "source": [
    "#Luego de ejecutar todo el algoritmo, divida los datos de entrenamiento y prueba en 90% y 10% respectivamente, \n",
    "#e indique si las métricas precision_score, recall_score, y  f1_score mejoraron. Nota: En el código entregado \n",
    "#debe estar como lo hizo o lo calculó.\n",
    "\n",
    "X_train_new, X_test_new, y_train_new, y_test_new = train_test_split(scaled_df, y, test_size=0.1, random_state=42)\n",
    "\n",
    "# Entrenar el modelo con los nuevos datos de entrenamiento\n",
    "model.fit(X_train_new, y_train_new)\n",
    "\n",
    "# Realizar predicciones en los nuevos datos de prueba\n",
    "y_pred_new = model.predict(X_test_new)\n",
    "\n",
    "# Calcular métricas con los nuevos datos\n",
    "precision_new = precision_score(y_test_new, y_pred_new)\n",
    "recall_new = recall_score(y_test_new, y_pred_new)\n",
    "f1_new = f1_score(y_test_new, y_pred_new)\n",
    "\n",
    "# Comparar métricas anteriores y nuevas\n",
    "print(\"Métricas anteriores:\")\n",
    "print(f'Precision Score : {precision_score(y_test,y_pred)}')\n",
    "print(f'Recall Score : {recall_score(y_test,y_pred)}')\n",
    "print(f'F1 Score : {f1_score(y_test,y_pred)}')\n",
    "\n",
    "print(\"\\nMétricas nuevas:\")\n",
    "print(f'Precision Score : {precision_new}')\n",
    "print(f'Recall Score : {recall_new}')\n",
    "print(f'F1 Score : {f1_new}')"
   ]
  },
  {
   "cell_type": "code",
   "execution_count": 29,
   "id": "ead82b47",
   "metadata": {
    "papermill": {
     "duration": 0.011005,
     "end_time": "2024-01-26T15:19:42.592839",
     "exception": false,
     "start_time": "2024-01-26T15:19:42.581834",
     "status": "completed"
    },
    "tags": []
   },
   "outputs": [
    {
     "name": "stdout",
     "output_type": "stream",
     "text": [
      "Métricas anteriores:\n",
      "Precision Score : 0.8392857142857143\n",
      "Recall Score : 0.6438356164383562\n",
      "F1 Score : 0.7286821705426357\n",
      "\n",
      "Métricas nuevas:\n",
      "Precision Score : 0.8378378378378378\n",
      "Recall Score : 0.5740740740740741\n",
      "F1 Score : 0.6813186813186813\n"
     ]
    }
   ],
   "source": [
    "#Luego de ejecutar todo el algoritmo, divida los datos de entrenamiento y prueba en 70% y 30% respectivamente, \n",
    "#e indique si las métricas precision_score, recall_score, y  f1_score mejoraron. Nota: En el código entregado debe \n",
    "#estar como lo hizo o lo calculó.\n",
    "\n",
    "X_train_new, X_test_new, y_train_new, y_test_new = train_test_split(scaled_df, y, test_size=0.3, random_state=42)\n",
    "\n",
    "# Entrenar el modelo con los nuevos datos de entrenamiento\n",
    "model.fit(X_train_new, y_train_new)\n",
    "\n",
    "# Realizar predicciones en los nuevos datos de prueba\n",
    "y_pred_new = model.predict(X_test_new)\n",
    "\n",
    "# Calcular métricas con los nuevos datos\n",
    "precision_new = precision_score(y_test_new, y_pred_new)\n",
    "recall_new = recall_score(y_test_new, y_pred_new)\n",
    "f1_new = f1_score(y_test_new, y_pred_new)\n",
    "\n",
    "# Comparar métricas anteriores y nuevas\n",
    "print(\"Métricas anteriores:\")\n",
    "print(f'Precision Score : {precision_score(y_test,y_pred)}')\n",
    "print(f'Recall Score : {recall_score(y_test,y_pred)}')\n",
    "print(f'F1 Score : {f1_score(y_test,y_pred)}')\n",
    "\n",
    "print(\"\\nMétricas nuevas:\")\n",
    "print(f'Precision Score : {precision_new}')\n",
    "print(f'Recall Score : {recall_new}')\n",
    "print(f'F1 Score : {f1_new}')\n"
   ]
  },
  {
   "cell_type": "code",
   "execution_count": 30,
   "id": "255f5acc",
   "metadata": {
    "papermill": {
     "duration": 0.011098,
     "end_time": "2024-01-26T15:19:42.615156",
     "exception": false,
     "start_time": "2024-01-26T15:19:42.604058",
     "status": "completed"
    },
    "tags": []
   },
   "outputs": [
    {
     "name": "stdout",
     "output_type": "stream",
     "text": [
      "Métricas anteriores:\n",
      "Precision Score : 0.8392857142857143\n",
      "Recall Score : 0.6438356164383562\n",
      "F1 Score : 0.7286821705426357\n",
      "\n",
      "Métricas nuevas:\n",
      "Precision Score : 0.8378378378378378\n",
      "Recall Score : 0.5740740740740741\n",
      "F1 Score : 0.6813186813186813\n"
     ]
    }
   ],
   "source": [
    "# Crear un nuevo modelo de regresión logística con 100 iteraciones\n",
    "model = LogisticRegression(max_iter=100)\n",
    "\n",
    "# Entrenar el modelo con los nuevos datos de entrenamiento\n",
    "model.fit(X_train_new, y_train_new)\n",
    "\n",
    "# Realizar predicciones en los nuevos datos de prueba\n",
    "y_pred_new = model.predict(X_test_new)\n",
    "\n",
    "# Calcular métricas con los nuevos datos\n",
    "precision_new = precision_score(y_test_new, y_pred_new)\n",
    "recall_new = recall_score(y_test_new, y_pred_new)\n",
    "f1_new = f1_score(y_test_new, y_pred_new)\n",
    "\n",
    "# Comparar métricas anteriores y nuevas\n",
    "print(\"Métricas anteriores:\")\n",
    "print(f'Precision Score : {precision_score(y_test,y_pred)}')\n",
    "print(f'Recall Score : {recall_score(y_test,y_pred)}')\n",
    "print(f'F1 Score : {f1_score(y_test,y_pred)}')\n",
    "\n",
    "print(\"\\nMétricas nuevas:\")\n",
    "print(f'Precision Score : {precision_new}')\n",
    "print(f'Recall Score : {recall_new}')\n",
    "print(f'F1 Score : {f1_new}')\n"
   ]
  },
  {
   "cell_type": "code",
   "execution_count": null,
   "id": "07c656e1",
   "metadata": {},
   "outputs": [],
   "source": []
  }
 ],
 "metadata": {
  "kaggle": {
   "accelerator": "none",
   "dataSources": [
    {
     "datasetId": 1275,
     "sourceId": 2286,
     "sourceType": "datasetVersion"
    }
   ],
   "dockerImageVersionId": 30635,
   "isGpuEnabled": false,
   "isInternetEnabled": true,
   "language": "python",
   "sourceType": "notebook"
  },
  "kernelspec": {
   "display_name": "Python 3 (ipykernel)",
   "language": "python",
   "name": "python3"
  },
  "language_info": {
   "codemirror_mode": {
    "name": "ipython",
    "version": 3
   },
   "file_extension": ".py",
   "mimetype": "text/x-python",
   "name": "python",
   "nbconvert_exporter": "python",
   "pygments_lexer": "ipython3",
   "version": "3.11.5"
  },
  "papermill": {
   "default_parameters": {},
   "duration": 16.812877,
   "end_time": "2024-01-26T15:19:43.348879",
   "environment_variables": {},
   "exception": null,
   "input_path": "__notebook__.ipynb",
   "output_path": "__notebook__.ipynb",
   "parameters": {},
   "start_time": "2024-01-26T15:19:26.536002",
   "version": "2.4.0"
  }
 },
 "nbformat": 4,
 "nbformat_minor": 5
}
