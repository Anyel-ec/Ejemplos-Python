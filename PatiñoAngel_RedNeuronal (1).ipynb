{
  "nbformat": 4,
  "nbformat_minor": 0,
  "metadata": {
    "colab": {
      "provenance": []
    },
    "kernelspec": {
      "name": "python3",
      "display_name": "Python 3"
    },
    "language_info": {
      "name": "python"
    }
  },
  "cells": [
    {
      "cell_type": "markdown",
      "source": [
        "**EJERCICIO UNO CON UNA SOLA CAPA POR ANGEL PATIÑO**"
      ],
      "metadata": {
        "id": "CPqxuHI4H08R"
      }
    },
    {
      "cell_type": "code",
      "metadata": {
        "id": "Hy_pAhzDZ4gy"
      },
      "source": [
        "#importamos las librerias\n",
        "import tensorflow as tf # libreria de IA\n",
        "import numpy as np #libreria para manejar arreglos\n",
        "import matplotlib.pyplot as plt #graficar"
      ],
      "execution_count": 1,
      "outputs": []
    },
    {
      "cell_type": "code",
      "metadata": {
        "id": "MIrfX72vaL1z"
      },
      "source": [
        "#Ejemplos para aprender\n",
        "celsius = np.array([-40, -10, 0, 8, 15, 22, 38], dtype=float) #entrada de grados celsius\n",
        "fahrenheit = np.array([-40, 14, 32, 46, 59, 72, 100], dtype=float) #entrada de grados celsius"
      ],
      "execution_count": 2,
      "outputs": []
    },
    {
      "cell_type": "code",
      "metadata": {
        "id": "RIG6Y5jEafFL"
      },
      "source": [
        "capa = tf.keras.layers.Dense(units=1, input_shape=[1]) # UNA NEURONA DENSA\n",
        "modelo = tf.keras.Sequential([capa]) #MODELO SECUENCIAL"
      ],
      "execution_count": 3,
      "outputs": []
    },
    {
      "cell_type": "code",
      "metadata": {
        "id": "1_WHzWidbN_8"
      },
      "source": [
        "modelo.compile(\n",
        "    optimizer=tf.keras.optimizers.Adam(0.1), #Optimizador ADAM (Ajusta sesgo y peso automaticamente eficientemente, el parametro es la tasa de aprendizaje)\n",
        "    loss='mean_squared_error' #error cuadrado medio\n",
        ")"
      ],
      "execution_count": 4,
      "outputs": []
    },
    {
      "cell_type": "code",
      "metadata": {
        "colab": {
          "base_uri": "https://localhost:8080/"
        },
        "id": "4D-NuUTnbabR",
        "outputId": "cdb75818-2e92-4770-c442-4c49bcad34d9"
      },
      "source": [
        "print(\"Comenzando entrenamiento...\")\n",
        "historial = modelo.fit(celsius, fahrenheit, epochs=1000, verbose=False) #fit entrena, pasamos los datos de celsius y fahrenheit, y las vueltas\n",
        "print(\"Modelo entrenado!\")"
      ],
      "execution_count": 5,
      "outputs": [
        {
          "output_type": "stream",
          "name": "stdout",
          "text": [
            "Comenzando entrenamiento...\n",
            "Modelo entrenado!\n"
          ]
        }
      ]
    },
    {
      "cell_type": "code",
      "metadata": {
        "colab": {
          "base_uri": "https://localhost:8080/",
          "height": 466
        },
        "id": "px43cF3Nb3mG",
        "outputId": "54fde9cd-4db0-4c38-fe40-0c1c5c6c8959"
      },
      "source": [
        "# funcion de perdidad\n",
        "plt.xlabel(\"# Epoca\")\n",
        "plt.ylabel(\"Magnitud de pérdida\")\n",
        "plt.plot(historial.history[\"loss\"])"
      ],
      "execution_count": 6,
      "outputs": [
        {
          "output_type": "execute_result",
          "data": {
            "text/plain": [
              "[<matplotlib.lines.Line2D at 0x7ed8ad892410>]"
            ]
          },
          "metadata": {},
          "execution_count": 6
        },
        {
          "output_type": "display_data",
          "data": {
            "text/plain": [
              "<Figure size 640x480 with 1 Axes>"
            ],
            "image/png": "[encoded data removed]"
          },
          "metadata": {}
        }
      ]
    },
    {
      "cell_type": "code",
      "metadata": {
        "colab": {
          "base_uri": "https://localhost:8080/"
        },
        "id": "esVvhzjMcV9f",
        "outputId": "b13e0662-e03a-4b16-af74-5dbbb6de23f0"
      },
      "source": [
        "print(\"Prediccion\")\n",
        "resultado = modelo.predict([100.0])\n",
        "print(\"El resultado es: \" + str(resultado) + \" fahrenheit!\")"
      ],
      "execution_count": 7,
      "outputs": [
        {
          "output_type": "stream",
          "name": "stdout",
          "text": [
            "Prediccion\n",
            "1/1 [==============================] - 0s 180ms/step\n",
            "El resultado es: [[211.74113]] fahrenheit!\n"
          ]
        }
      ]
    },
    {
      "cell_type": "code",
      "metadata": {
        "colab": {
          "base_uri": "https://localhost:8080/"
        },
        "id": "FVDejrBgcokc",
        "outputId": "ba849530-91bc-45fb-a7f9-488ef4a036de"
      },
      "source": [
        "print(\"Variables internas del modelo\")\n",
        "print(capa.get_weights()) #obtener el peso, sesgo"
      ],
      "execution_count": 8,
      "outputs": [
        {
          "output_type": "stream",
          "name": "stdout",
          "text": [
            "Variables internas del modelo\n",
            "[array([[1.798352]], dtype=float32), array([31.905926], dtype=float32)]\n"
          ]
        }
      ]
    },
    {
      "cell_type": "markdown",
      "source": [
        "**SEGUNDO EJERCICIO DONDE ENTRENAMOS CON 3 CAPAS**"
      ],
      "metadata": {
        "id": "Nt3zEj1LH_-R"
      }
    },
    {
      "cell_type": "code",
      "source": [
        "# AUMENTAR CAPAS\n",
        "oculta1 = tf.keras.layers.Dense(units=3, input_shape=[1]) # PRIMERA CAPA\n",
        "oculta2 = tf.keras.layers.Dense(units=3) #SEGUNDA CAPA\n",
        "salida = tf.keras.layers.Dense(units=1) # CAPA DE SALIDA\n",
        "modelo = tf.keras.Sequential([oculta1, oculta2, salida]) # MODELO SECUENCIAL"
      ],
      "metadata": {
        "id": "kwZ3d-14IQ2r"
      },
      "execution_count": 9,
      "outputs": []
    },
    {
      "cell_type": "code",
      "source": [
        "modelo.compile(\n",
        "    optimizer=tf.keras.optimizers.Adam(0.1), #Optimizador ADAM (Ajusta sesgo y peso automaticamente eficientemente, el parametro es la tasa de aprendizaje)\n",
        "    loss='mean_squared_error' #error cuadrado medio\n",
        ")"
      ],
      "metadata": {
        "id": "JMK8YOwUJJPe"
      },
      "execution_count": 10,
      "outputs": []
    },
    {
      "cell_type": "code",
      "source": [
        "print(\"Comenzando entrenamiento...\")\n",
        "historial = modelo.fit(celsius, fahrenheit, epochs=1000, verbose=False) #fit entrena, pasamos los datos de celsius y fahrenheit, y las vueltas\n",
        "print(\"Modelo entrenado!\")"
      ],
      "metadata": {
        "id": "5GxBVfk2JMYS",
        "outputId": "2af62b9f-3d67-47dc-e95b-256a92839a56",
        "colab": {
          "base_uri": "https://localhost:8080/"
        }
      },
      "execution_count": 11,
      "outputs": [
        {
          "output_type": "stream",
          "name": "stdout",
          "text": [
            "Comenzando entrenamiento...\n",
            "Modelo entrenado!\n"
          ]
        }
      ]
    },
    {
      "cell_type": "code",
      "source": [
        "# funcion de perdidad\n",
        "plt.xlabel(\"# Epoca\")\n",
        "plt.ylabel(\"Magnitud de pérdida\")\n",
        "plt.title(\"Mayor capas\")\n",
        "plt.plot(historial.history[\"loss\"])"
      ],
      "metadata": {
        "id": "8PqIIxTnJO6Q",
        "outputId": "cdf9ebdd-b83c-42fa-f45e-c03e73164635",
        "colab": {
          "base_uri": "https://localhost:8080/",
          "height": 489
        }
      },
      "execution_count": 12,
      "outputs": [
        {
          "output_type": "execute_result",
          "data": {
            "text/plain": [
              "[<matplotlib.lines.Line2D at 0x7ed8ae82fac0>]"
            ]
          },
          "metadata": {},
          "execution_count": 12
        },
        {
          "output_type": "display_data",
          "data": {
            "text/plain": [
              "<Figure size 640x480 with 1 Axes>"
            ],
            "image/png": "[encoded data removed]"
          },
          "metadata": {}
        }
      ]
    },
    {
      "cell_type": "markdown",
      "source": [
        "Si comparamos el modelo entranado de una capa (Ejercio Uno), con el modelo con tres capaz, observamos que obtenemos mejores resultados con este ultimo."
      ],
      "metadata": {
        "id": "fJ-tEjG6JpVJ"
      }
    },
    {
      "cell_type": "code",
      "source": [
        "# imprimir el sesgo y peso\n",
        "print(oculta1.get_weights())\n",
        "print(oculta2.get_weights())\n",
        "print(salida.get_weights())"
      ],
      "metadata": {
        "id": "R7UFI_nqItTx",
        "colab": {
          "base_uri": "https://localhost:8080/"
        },
        "outputId": "3ab16fd0-722c-4ce8-bf8e-f45d22a9b4e3"
      },
      "execution_count": 13,
      "outputs": [
        {
          "output_type": "stream",
          "name": "stdout",
          "text": [
            "[array([[-0.05232973,  0.6475969 ,  0.21419732]], dtype=float32), array([2.4080932, 3.6836836, 3.4332693], dtype=float32)]\n",
            "[array([[ 0.59000593,  0.30340979, -0.25689414],\n",
            "       [ 0.9909865 , -0.12906489, -0.6849438 ],\n",
            "       [ 1.3118681 , -0.18349655,  0.5865532 ]], dtype=float32), array([ 3.7126238, -3.1693513, -3.6881018], dtype=float32)]\n",
            "[array([[ 1.4149656],\n",
            "       [-0.7831404],\n",
            "       [-1.4033202]], dtype=float32), array([3.6166015], dtype=float32)]\n"
          ]
        }
      ]
    }
  ]
}