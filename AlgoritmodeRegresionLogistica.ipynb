{
  "nbformat": 4,
  "nbformat_minor": 0,
  "metadata": {
    "colab": {
      "provenance": []
    },
    "kernelspec": {
      "name": "python3",
      "display_name": "Python 3"
    },
    "language_info": {
      "name": "python"
    }
  },
  "cells": [
    {
      "cell_type": "markdown",
      "source": [
        "**Regresion logistica **"
      ],
      "metadata": {
        "id": "GJ-qCLKgvvmH"
      }
    },
    {
      "cell_type": "markdown",
      "source": [
        "**PROBAR LA LEÍDA DE LOS DATOS DEL CSV**"
      ],
      "metadata": {
        "id": "_x0xabiR2oH2"
      }
    },
    {
      "cell_type": "code",
      "source": [
        "import pandas as pd\n",
        "\n",
        "# Ruta al archivo CSV\n",
        "archivo_csv = \"datos.csv\"\n",
        "\n",
        "# Leer el archivo CSV en un DataFrame de pandas\n",
        "df = pd.read_csv(archivo_csv)\n",
        "\n",
        "# Mostrar las primeras filas del DataFrame para verificar que se haya leído correctamente\n",
        "print(df.head())\n"
      ],
      "metadata": {
        "id": "_-9r92Sbvzut"
      },
      "execution_count": null,
      "outputs": []
    },
    {
      "cell_type": "code",
      "source": [
        "import pandas as pd\n",
        "from sklearn.model_selection import train_test_split\n",
        "from sklearn.feature_extraction.text import TfidfVectorizer\n",
        "from sklearn.linear_model import LogisticRegression\n",
        "from sklearn.metrics import classification_report, confusion_matrix\n",
        "\n",
        "# Leer el archivo CSV\n",
        "data = pd.read_csv(\"datos.csv\")\n",
        "\n",
        "# Eliminar filas con valores NaN en la columna 'reviews.text'\n",
        "data = data.dropna(subset=['reviews.text'])\n",
        "\n",
        "# Convertir las calificaciones de las reseñas en una variable binaria (0: negativa, 1: positiva)\n",
        "data['sentimiento'] = data['reviews.rating'].apply(lambda x: 1 if x >= 3 else 0)\n",
        "\n",
        "# Dividir los datos en conjunto de entrenamiento y conjunto de prueba\n",
        "X_train, X_test, y_train, y_test = train_test_split(data['reviews.text'], data['sentimiento'], test_size=0.2, random_state=42)\n",
        "\n",
        "# Vectorización de texto usando TF-IDF\n",
        "tfidf_vectorizer = TfidfVectorizer(stop_words='english')\n",
        "X_train_tfidf = tfidf_vectorizer.fit_transform(X_train)\n",
        "X_test_tfidf = tfidf_vectorizer.transform(X_test)\n",
        "\n",
        "# Entrenamiento del modelo de regresión logística\n",
        "model = LogisticRegression()\n",
        "model.fit(X_train_tfidf, y_train)\n",
        "\n",
        "# Evaluación del modelo\n",
        "predictions = model.predict(X_test_tfidf)\n",
        "print(\"Reporte de clasificación:\")\n",
        "print(classification_report(y_test, predictions))\n",
        "print(\"Matriz de confusión:\")\n",
        "print(confusion_matrix(y_test, predictions))\n"
      ],
      "metadata": {
        "colab": {
          "base_uri": "https://localhost:8080/"
        },
        "id": "2XY24WXh1XAE",
        "outputId": "19d9fc8b-0cc0-4ed6-e86f-c1806f4658d7"
      },
      "execution_count": 4,
      "outputs": [
        {
          "output_type": "stream",
          "name": "stderr",
          "text": [
            "<ipython-input-4-1ee4b02af085>:8: DtypeWarning: Columns (1,10) have mixed types. Specify dtype option on import or set low_memory=False.\n",
            "  data = pd.read_csv(\"datos.csv\")\n"
          ]
        },
        {
          "output_type": "stream",
          "name": "stdout",
          "text": [
            "Reporte de clasificación:\n",
            "              precision    recall  f1-score   support\n",
            "\n",
            "           0       0.67      0.02      0.04       175\n",
            "           1       0.98      1.00      0.99      6757\n",
            "\n",
            "    accuracy                           0.98      6932\n",
            "   macro avg       0.82      0.51      0.52      6932\n",
            "weighted avg       0.97      0.98      0.96      6932\n",
            "\n",
            "Matriz de confusión:\n",
            "[[   4  171]\n",
            " [   2 6755]]\n"
          ]
        }
      ]
    }
  ]
}